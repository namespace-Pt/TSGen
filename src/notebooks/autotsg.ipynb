{
 "cells": [
  {
   "cell_type": "code",
   "execution_count": 1,
   "metadata": {},
   "outputs": [
    {
     "name": "stdout",
     "output_type": "stream",
     "text": [
      "[2023-08-18 02:58:54,609] [INFO] [real_accelerator.py:133:get_accelerator] Setting ds_accelerator to cuda (auto detect)\n"
     ]
    },
    {
     "name": "stderr",
     "output_type": "stream",
     "text": [
      "[2023-08-18 02:58:58,699] INFO (Config) setting seed to 42...\n",
      "[2023-08-18 02:58:58,711] INFO (Config) setting PLM to t5...\n",
      "[2023-08-18 02:58:58,954] INFO (Config) Config: {'adam_beta1': 0.9, 'adam_beta2': 0.999, 'adam_epsilon': 1e-08, 'batch_size': 2, 'bf16': False, 'cache_root': 'data/cache/NQ320k', 'data_format': 'memmap', 'data_root': '/share/peitian/Data/AutoTSG', 'dataset': 'NQ320k', 'debug': False, 'deepspeed': None, 'device': 0, 'distill_src': 'none', 'early_stop_patience': 5, 'enable_all_gather': True, 'enable_distill': False, 'enable_inbatch_negative': True, 'epoch': 20, 'eval_batch_size': 2, 'eval_delay': 0, 'eval_flops': False, 'eval_metric': ['mrr', 'recall'], 'eval_metric_cutoff': [1, 5, 10, 100, 1000], 'eval_mode': 'retrieve', 'eval_posting_length': False, 'eval_set': 'dev', 'eval_step': '1e', 'fp16': False, 'grad_accum_step': 1, 'hits': 1000, 'index_shard': 32, 'index_thread': 10, 'index_type': 'invvec', 'learning_rate': 3e-06, 'load_ckpt': None, 'load_encode': False, 'load_index': True, 'load_query_encode': False, 'load_result': False, 'load_text_encode': False, 'loader_train': 'neg', 'main_metric': 'Recall@10', 'max_grad_norm': 0, 'max_query_length': 64, 'max_step': 0, 'max_text_length': 512, 'mode': 'train', 'model_type': None, 'neg_type': 'random', 'nneg': 1, 'num_worker': 0, 'parallel': 'text', 'plm': 't5', 'plm_dir': '/share/peitian/Data/AutoTSG/PLM/t5', 'plm_root': '/share/peitian/Data/AutoTSG/PLM', 'plm_tokenizer': 't5', 'posting_prune': 0.0, 'query_gate_k': 0, 'query_length': 32, 'report_to': 'none', 'return_first_mask': False, 'return_special_mask': False, 'save_at_eval': False, 'save_ckpt': 'best', 'save_encode': False, 'save_index': True, 'save_model': False, 'save_res': 'retrieval_result', 'save_score': False, 'scheduler': 'constant', 'seed': 42, 'special_token_ids': {'cls': (None, None), 'pad': ('<pad>', 0), 'unk': ('<unk>', 2), 'sep': (None, None), 'eos': ('</s>', 1)}, 'text_col': [1, 2, 3], 'text_col_sep': ' ', 'text_gate_k': 0, 'text_length': 512, 'text_type': 'default', 'train_set': ['train'], 'untie_encoder': False, 'verifier_hits': 1000, 'verifier_index': 'none', 'verifier_src': 'none', 'verifier_type': 'none', 'vocab_size': 32100, 'warmup_ratio': 0.1, 'warmup_step': 0, 'weight_decay': 0.01}\n",
      "[2023-08-18 02:58:58,995] INFO (Dataset) initializing NQ320k memmap Text dataset...\n",
      "[2023-08-18 02:58:59,038] INFO (Dataset) initializing NQ320k memmap Query dev dataset...\n"
     ]
    }
   ],
   "source": [
    "import os\n",
    "import sys\n",
    "if sys.path[-1] != \"../\":\n",
    "    sys.path.append(\"../\")\n",
    "    os.chdir(\"../\")\n",
    "\n",
    "import numpy as np\n",
    "import pandas as pd\n",
    "from IPython.display import display\n",
    "from random import sample\n",
    "from transformers import AutoModel, AutoTokenizer\n",
    "\n",
    "import torch\n",
    "from utils.util import *\n",
    "from utils.index import *\n",
    "from utils.data import *\n",
    "\n",
    "from hydra import initialize, compose\n",
    "\n",
    "config = Config()\n",
    "with initialize(version_base=None, config_path=\"../data/config/\"):\n",
    "    overrides = [\n",
    "        \"base=NQ320k\",\n",
    "        # \"base=MS300k\",\n",
    "        # \"++plm=t5\",\n",
    "    ]\n",
    "    hydra_config = compose(config_name=\"_example\", overrides=overrides)\n",
    "    config._from_hydra(hydra_config)\n",
    "\n",
    "loaders = prepare_data(config)\n",
    "\n",
    "loader_text = loaders[\"text\"]\n",
    "loader_query = loaders[\"query\"]\n",
    "text_dataset = loader_text.dataset\n",
    "query_dataset = loader_query.dataset\n",
    "\n",
    "# tokenizer = AutoTokenizer.from_pretrained(os.path.join(config.plm_root, config.plm_tokenizer))"
   ]
  },
  {
   "cell_type": "code",
   "execution_count": 2,
   "metadata": {},
   "outputs": [],
   "source": [
    "# load terms\n",
    "# code_type = \"words_title_comma_plus_stem\"\n",
    "code_type = \"words_comma_plus_stem\"\n",
    "code_tokenizer = \"t5\"\n",
    "# for NQ320k\n",
    "code_length = 26\n",
    "# for MS300k\n",
    "# code_length = 34\n",
    "# code_length = 42\n",
    "# code_length = 66\n",
    "\n",
    "tokenizer = AutoTokenizer.from_pretrained(os.path.join(config.plm_root, code_tokenizer))\n",
    "\n",
    "text_codes = np.memmap(\n",
    "    f\"data/cache/{config.dataset}/codes/{code_type}/{code_tokenizer}/{code_length}/codes.mmp\",\n",
    "    mode=\"r\",\n",
    "    dtype=np.int32\n",
    ").reshape(len(text_dataset), -1).copy()"
   ]
  },
  {
   "cell_type": "code",
   "execution_count": null,
   "metadata": {},
   "outputs": [],
   "source": [
    "indices = range(10)\n",
    "text_code = text_codes[indices]\n",
    "text_code[text_code == -1] = 0\n",
    "display(tokenizer.batch_decode(text_code))\n",
    "display(tokenizer.batch_decode(np.array(text_dataset[indices][\"text\"][\"input_ids\"])[:, :100]))"
   ]
  },
  {
   "cell_type": "code",
   "execution_count": null,
   "metadata": {},
   "outputs": [],
   "source": [
    "# trie = TrieIndex(save_dir=f\"data/cache/{config.dataset}/codes/{code_type}/{code_tokenizer}/{code_length}\")\n",
    "# trie.load()\n",
    "\n",
    "# wordset = WordSetIndex(save_dir=f\"data/cache/{config.dataset}/codes/{code_type}/{code_tokenizer}/{code_length}\", sep_token_id=6)\n",
    "# wordset.fit(None)\n",
    "\n",
    "# text_codes = np.sort(text_codes, axis=-1)\n",
    "df = pd.DataFrame(text_codes)\n",
    "duplicates = df.groupby(df.columns.tolist(),as_index=False).size()\n",
    "duplicates = duplicates.sort_values(\"size\", ascending=False)\n",
    "duplicates.reset_index(drop=True, inplace=True)\n",
    "\n",
    "dup = df.duplicated(keep=\"first\").to_numpy()\n",
    "dup_indices = np.argwhere(dup)[:, 0]\n",
    "len(dup_indices), duplicates[\"size\"][duplicates[\"size\"] > 1].sum()"
   ]
  },
  {
   "cell_type": "code",
   "execution_count": 2,
   "metadata": {},
   "outputs": [
    {
     "name": "stdout",
     "output_type": "stream",
     "text": [
      "number of documents missing in training set: 8353661\n"
     ]
    }
   ],
   "source": [
    "# create new query set based on an existing one\n",
    "\n",
    "dataset = \"MSMARCO-passage\"\n",
    "ori_query_set = \"doct5\"\n",
    "query_set = \"doct5-1\"\n",
    "\n",
    "try:\n",
    "    qid2idx = load_pickle(f\"data/cache/{dataset}/dataset/query/{ori_query_set}/id2index.pkl\")\n",
    "except FileNotFoundError:\n",
    "    qid2idx = {}\n",
    "    with open(f\"{config.data_root}/{dataset}/queries.{ori_query_set}.tsv\") as f:\n",
    "        for qidx, line in enumerate(tqdm(f, desc=\"Collecting qid2idx\")):\n",
    "            qid = line.split(\"\\t\")[0]\n",
    "            qid2idx[qid] = qidx\n",
    "            \n",
    "tid2idx = load_pickle(f\"data/cache/{dataset}/dataset/text/id2index.pkl\")\n",
    "\n",
    "qindices = []\n",
    "tid2qrels = defaultdict(list)\n",
    "k = 1\n",
    "\n",
    "train_positives = load_pickle(f\"data/cache/{dataset}/dataset/query/train/positives.pkl\")\n",
    "train_positives = set([x[0] for x in train_positives.values()])\n",
    "miss_docs = set(range(len(text_dataset))) - train_positives\n",
    "print(f\"number of documents missing in training set: {len(miss_docs)}\")\n",
    "\n",
    "with open(f\"{config.data_root}/{dataset}/qrels.{ori_query_set}.tsv\") as ori_qrel_file, open(f\"{config.data_root}/{dataset}/qrels.{query_set}.tsv\", \"w\") as qrel_file, open(f\"{config.data_root}/{dataset}/queries.{ori_query_set}.tsv\") as ori_query_file, open(f\"{config.data_root}/{dataset}/queries.{query_set}.tsv\", \"w\") as query_file:\n",
    "    for i, line in enumerate(ori_qrel_file):\n",
    "        qid, _, tid, _ = line.strip().split(\"\\t\")\n",
    "        qidx = qid2idx[qid]\n",
    "\n",
    "        # filter out the existing ones\n",
    "        # tidx = tid2idx[tid]\n",
    "        # if tidx in miss_docs:\n",
    "        #     tid2qrels[tid].append(line)\n",
    "        #     qindices.append(qidx)\n",
    "\n",
    "        # keep the first k elements\n",
    "        if len(tid2qrels[tid]) >= k:\n",
    "            continue\n",
    "        else:\n",
    "            tid2qrels[tid].append(line)\n",
    "            qindices.append(qidx)\n",
    "\n",
    "    qindices = set(qindices)\n",
    "    for i, line in enumerate(ori_query_file):\n",
    "        if i in qindices:\n",
    "            query_file.write(line)\n",
    "\n",
    "    for qrels in tid2qrels.values():\n",
    "        for line in qrels:\n",
    "            qrel_file.write(line)"
   ]
  },
  {
   "cell_type": "code",
   "execution_count": null,
   "metadata": {},
   "outputs": [],
   "source": [
    "from transformers import AutoModel, AutoTokenizer\n",
    "\n",
    "# model_name_or_path = \"facebook/contriever-msmarco\"\n",
    "model_name_or_path = \"sentence-transformers/gtr-t5-base\"\n",
    "\n",
    "model = AutoModel.from_pretrained(model_name_or_path, cache_dir=\"/share/LMs\", local_files_only=True)\n",
    "tokenizer = AutoTokenizer.from_pretrained(model_name_or_path, cache_dir=\"/share/LMs\", local_files_only=True)\n",
    "\n",
    "# save_path = \"/share/peitian/Data/AutoTSG/PLM/contriever\"\n",
    "save_path = \"/share/peitian/Data/AutoTSG/PLM/gtr\"\n",
    "model.save_pretrained(save_path)\n",
    "tokenizer.save_pretrained(save_path)"
   ]
  }
 ],
 "metadata": {
  "kernelspec": {
   "display_name": "Python 3.9.12",
   "language": "python",
   "name": "python3"
  },
  "language_info": {
   "codemirror_mode": {
    "name": "ipython",
    "version": 3
   },
   "file_extension": ".py",
   "mimetype": "text/x-python",
   "name": "python",
   "nbconvert_exporter": "python",
   "pygments_lexer": "ipython3",
   "version": "3.9.12"
  },
  "orig_nbformat": 4,
  "vscode": {
   "interpreter": {
    "hash": "778a5a6b0df35a46498564cf16af2e5ec016022ef7dc9d5934de67fcb1f6bfb9"
   }
  }
 },
 "nbformat": 4,
 "nbformat_minor": 2
}
